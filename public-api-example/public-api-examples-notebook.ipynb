{
 "cells": [
  {
   "attachments": {},
   "cell_type": "markdown",
   "metadata": {},
   "source": [
    "# Public API V2 <a class=\"anchor\" id=\"notebook-head\"></a>"
   ]
  },
  {
   "attachments": {},
   "cell_type": "markdown",
   "metadata": {},
   "source": [
    "## Введение <a class=\"anchor\" id=\"introduction\"></a>"
   ]
  },
  {
   "attachments": {},
   "cell_type": "markdown",
   "metadata": {},
   "source": [
    "Этот ноутбук, посвящен\n",
    "[Public API V2](https://docs.sbercloud.ru/aicloud/mlspace/concepts/api.html) \n",
    " платформы \n",
    "[ML Space](https://sbercloud.ru/ru/aicloud/mlspace).\n",
    "\n",
    "ML Space предоставляет свой \n",
    "[REST API](https://en.wikipedia.org/wiki/Representational_state_transfer) \n",
    "для того, чтобы пользователи могли частично или полностью автоматизировать свои пайплайны. Использование API позволяет оптимизировать процесс разработки, избавившись от рутинных повторяющихся манипуляций с данными и моделями через \n",
    "[ML Space UI](https://docs.sbercloud.ru/aicloud/mlspace/index.html).\n",
    "\n",
    "Например: у пользователя есть уже заготовленный скрипт. При незначительных модификациях он сможет взаимодействовать с ML Space посредством REST API, что сэкономит время.\n",
    "\n",
    "Помимо [документации по REST API](https://api.aicloud.sbercloud.ru/public/v2/redoc), мы предлагаем несколько описанных примеров использования.\n",
    "\n",
    "В этом ноутбуке мы рассмотрим ряд операций, которые вы можете выполнять при помощи REST API, а именно:\n",
    "- Авторизация пользователя \n",
    "- Работа с данными\n",
    "    - Выгрузка содержания бакета\n",
    "    - Копирование данных из S3 на NFS\n",
    "    - Копирование данных из NFS на S3\n",
    "- Базовые Docker-образы\n",
    "    - Получение списка базовых Docker-образов\n",
    "- Задачи на кластере\n",
    "    - Получение списка задач\n",
    "    - Запуск задачи\n",
    "    - Выгрузка логов задачи\n",
    "- Inference-методы\n",
    "    - Получение списка сервисов\n",
    "    - Получение информации по сервису\n",
    "    - Создание образа для инференс-сервиса\n",
    "    - Просмотр статуса сборки образа для инференс-сервиса\n",
    "    - Просмотр логов сборки образа для инференс-сервиса\n",
    "    - Создание деплоя на основе собранного образа\n",
    "    - Отправка запроса к созданному сервису\n",
    "\n",
    "До рассмотрения примеров необходимо проверить, соблюдены ли некоторые предварительные требования, а именно:\n",
    "\n",
    "* <span style=\"color:green;font-weight:bold\">(Рекомендуется)</span> Ноутбук предпочтительно запускать в Jupyter Lab. Jupyter Lab, в отличие от Jupyter Notebook, умеет качественно визуализировать JSON-структуры, которые часто встречаются в этом ноутбуке.\n",
    "\n",
    "* <span style=\"color:green;font-weight:bold\">(Рекомендуется)</span> Лучше, чтобы рядом с самим ноутбуком находился JSON-файл с необходимыми авторизационными данными от вашего аккаунта. Это сделает использование удобнее. Вы можете не создавать такой файл. Тогда необходимо иметь при себе логин и пароль от вашего аккаунта, чтобы авторизоваться.\n",
    "\n",
    "* У вас должен быть ```X-Api-Key```, он же ```GWAPI_KEY```. Более подробно — [в пользовательской документации ML Space](https://docs.sbercloud.ru/aicloud/mlspace/concepts/api.html#id4).\n",
    "\n",
    "* У вас должен быть ```X-Workspace-Id```. Используется практически во всех REST-запросах в Public API V2.\n",
    "\n",
    "В начале ноутбука есть содержание, в каждом последующем разделе — обратная ссылка на содержание.\n",
    "\n",
    "Приятной работы!"
   ]
  },
  {
   "attachments": {},
   "cell_type": "markdown",
   "metadata": {},
   "source": [
    "# Содержание <a class=\"anchor\" id=\"toc\"></a>"
   ]
  },
  {
   "attachments": {},
   "cell_type": "markdown",
   "metadata": {
    "heading_collapsed": "true"
   },
   "source": [
    "* [Public API V2](#notebook-head)\n",
    "    * [Введение](#introduction)\n",
    "* [Все необходимые библиотеки](#all-imports-necessary)\n",
    "* [Вспомогательные функции и переменные](#auxiliary-stuff)\n",
    "* [Предварительные требования](#prerequisites)\n",
    "    * [JSON-файл с необходимыми авторизационными данными](#prerequisites-part-1)\n",
    "    * [X-Api-Key](#prerequisites-part-2)\n",
    "    * [X-Workspace-Id](#prerequisites-part-3)\n",
    "* [Авторизация](#authorization)\n",
    "* [Работа с данными](#s3)\n",
    "    * [Выгрузить содержание бакета](#s3-get-bucket-content-structure)\n",
    "    * [Копировать данные из S3 на NFS](#s3-copy-to-nfs)\n",
    "    * [Копировать данные из NFS на S3](#s3-copy-from-s3)\n",
    "* [Базовые Docker-образы](#docker-images)\n",
    "    * [Получить список базовых Docker-образов](#docker-images-get)\n",
    "* [Задачи на кластере](#jobs)\n",
    "    * [Получить список задач](#jobs-get)\n",
    "    * [Запустить задачу](#jobs-run)\n",
    "    * [Выгрузить логи задачи](#jobs-job-logs)\n",
    "* [Inference-методы](#inference)\n",
    "    * [Получить список сервисов](#inference-get-services-list)\n",
    "    * [Получить информацию по сервису](#inference-get-service-info)\n",
    "    * [Создать образ для инференс-сервиса](#inference-create-an-image)\n",
    "    * [Просмотреть статус сборки образа для инференс-сервиса](#inference-image-creation-status)\n",
    "    * [Просмотреть  логи сборки образа для инференс-сервиса](#inference-image-creation-logs)\n",
    "    * [Создать деплой на основе собранного образа](#inference-create-service)\n",
    "    * [Отправить запрос к созданному сервису](#inference-get-a-response-from-service)"
   ]
  },
  {
   "attachments": {},
   "cell_type": "markdown",
   "metadata": {},
   "source": [
    "# Все необходимые библиотеки ([содержание](#toc))<a class=\"anchor\" id=\"all-imports-necessary\"></a>"
   ]
  },
  {
   "attachments": {},
   "cell_type": "markdown",
   "metadata": {},
   "source": [
    "Стандарт отрасли — импорты библиотек в одной ячейке в самом начале ноутбука, чтобы код был более читаемым и чистым.\n",
    "\n",
    "Так мы и поступим."
   ]
  },
  {
   "cell_type": "code",
   "execution_count": null,
   "metadata": {},
   "outputs": [],
   "source": [
    "import os\n",
    "\n",
    "import json\n",
    "\n",
    "import copy\n",
    "\n",
    "import boto3\n",
    "\n",
    "import requests\n",
    "\n",
    "import client_lib\n",
    "\n",
    "from IPython.display import JSON"
   ]
  },
  {
   "attachments": {},
   "cell_type": "markdown",
   "metadata": {},
   "source": [
    "# Вспомогательные функции и переменные ([содержание](#toc))<a class=\"anchor\" id=\"auxiliary-stuff\"></a>"
   ]
  },
  {
   "cell_type": "code",
   "execution_count": null,
   "metadata": {},
   "outputs": [],
   "source": [
    "def wipe_out_sensitive_information(func):\n",
    "    \n",
    "    def recursive_information_deletion(credentials_dict):\n",
    "        sensitive_info_fields = [\n",
    "            \"id\", \"gwapi-key\",\n",
    "            \"client_id\", \"client_secret\",\n",
    "            \"access_key_id\", \"secret_access_key\",\n",
    "            \"endpoint_url\", \"bucket_name\",\n",
    "            \"access_token\", \"refresh_token\",\n",
    "            \"s3_endpoint\", \"aws_access_key_id\",\n",
    "            \"aws_secret_access_key\"\n",
    "        ]\n",
    "        \n",
    "        if isinstance(credentials_dict, dict):\n",
    "            for k, v in credentials_dict.items():\n",
    "                if isinstance(v, dict):\n",
    "                    new_v = recursive_information_deletion(v)\n",
    "                    \n",
    "                    credentials_dict[k] = new_v\n",
    "                elif isinstance(v, str):\n",
    "                    if k in sensitive_info_fields:\n",
    "                        credentials_dict[k] = \"[SENSITIVE INFORMATION, WIPED OUT]\"\n",
    "                elif isinstance(v, list):\n",
    "                    for i, item in enumerate(v):\n",
    "                        new_v_i = recursive_information_deletion(item)\n",
    "                        \n",
    "                        v[i] = new_v_i\n",
    "                        \n",
    "        return credentials_dict\n",
    "\n",
    "    def wrapper(credentials_dict):\n",
    "        credentials_dict_copy = copy.deepcopy(credentials_dict)\n",
    "        \n",
    "        credentials_dict_copy[\"[THIS IS A COPY]\"] = True\n",
    "        \n",
    "        credentials_dict_copy = recursive_information_deletion(credentials_dict_copy)\n",
    "        \n",
    "        return_value = func(credentials_dict_copy)\n",
    "        \n",
    "        return return_value\n",
    "    \n",
    "    return wrapper"
   ]
  },
  {
   "cell_type": "code",
   "execution_count": null,
   "metadata": {},
   "outputs": [],
   "source": [
    "JSON = wipe_out_sensitive_information(JSON)"
   ]
  },
  {
   "cell_type": "code",
   "execution_count": null,
   "metadata": {},
   "outputs": [],
   "source": [
    "host = \"https://api.aicloud.sbercloud.ru\"\n",
    "\n",
    "rest_call_template = \"{}/public/v2/{}\""
   ]
  },
  {
   "attachments": {},
   "cell_type": "markdown",
   "metadata": {},
   "source": [
    "# Предварительные требования ([содержание](#toc))<a class=\"anchor\" id=\"prerequisites\"></a>"
   ]
  },
  {
   "attachments": {},
   "cell_type": "markdown",
   "metadata": {},
   "source": [
    "## JSON-файл с необходимыми авторизационными данными ([содержание](#toc))<a class=\"anchor\" id=\"prerequisites-part-1\"></a>"
   ]
  },
  {
   "cell_type": "code",
   "execution_count": null,
   "metadata": {},
   "outputs": [],
   "source": [
    "with open(\"credentials_dict_example.json\", \"r\") as f:\n",
    "    credentials_dict = json.load(f)"
   ]
  },
  {
   "cell_type": "code",
   "execution_count": null,
   "metadata": {},
   "outputs": [],
   "source": [
    "JSON(credentials_dict)"
   ]
  },
  {
   "cell_type": "code",
   "execution_count": null,
   "metadata": {},
   "outputs": [],
   "source": [
    "with open(\"credentials_dict.json\", \"r\") as f:\n",
    "    credentials_dict = json.load(f)"
   ]
  },
  {
   "cell_type": "code",
   "execution_count": null,
   "metadata": {},
   "outputs": [],
   "source": [
    "credentials = {\n",
    "    \"client_id\": credentials_dict[\"workspaces\"][0][\"client_id\"],\n",
    "    \"client_secret\": credentials_dict[\"workspaces\"][0][\"client_secret\"]\n",
    "}"
   ]
  },
  {
   "attachments": {},
   "cell_type": "markdown",
   "metadata": {},
   "source": [
    "## X-Api-Key ([содержание](#toc))<a class=\"anchor\" id=\"prerequisites-part-2\"></a>"
   ]
  },
  {
   "attachments": {},
   "cell_type": "markdown",
   "metadata": {},
   "source": [
    "```X-Api-Key``` (он же ```GWAPI_KEY```) — это клиентский ключ доступа к API. Подробнее — [в пользовательской документации](https://docs.sbercloud.ru/aicloud/mlspace/concepts/profile__develop-func.html)). Он индивидуален для каждого [воркспейса](https://docs.sbercloud.ru/aicloud/mlspace/concepts/profile__workspace.html) в рамках аккаунта пользователя.\n",
    "\n",
    "При создании нового Jupyter Server в окружении создается переменная ```GWAPI_KEY```, куда и записывается значение ```X-Api-Key```.\n",
    "\n",
    "Есть несколько способов получить эту сущность.\n",
    "\n",
    "1. Через Python\n",
    "\n",
    "    ```python\n",
    "    import os\n",
    "    print(os.environ[\"GWAPI_KEY\"])\n",
    "    ```\n",
    "\n",
    "2. Через командную оболочку (bash, sh, zsh и др.):\n",
    "\n",
    "    ```bash\n",
    "    echo $GWAPI_KEY\n",
    "    ```\n",
    "\n",
    "3. Через bash-magic команду в Jupyter Notebook/Lab:\n",
    "\n",
    "    ```bash\n",
    "    %%bash\n",
    "    echo $GWAPI_KEY\n",
    "    ```\n",
    "\n",
    "    или\n",
    "\n",
    "    ```bash\n",
    "    ! echo $GWAPI_KEY\n",
    "    ```\n",
    "\n",
    "Далее мы воспользуемся **первым** способом."
   ]
  },
  {
   "attachments": {},
   "cell_type": "markdown",
   "metadata": {},
   "source": [
    "## X-Workspace-Id ([содержание](#toc))<a class=\"anchor\" id=\"prerequisites-part-3\"></a>"
   ]
  },
  {
   "attachments": {},
   "cell_type": "markdown",
   "metadata": {},
   "source": [
    "```X-Workspace-Id``` — это уникальный идентификатор [воркспейса](https://docs.sbercloud.ru/aicloud/mlspace/concepts/profile__workspace.html), в котором вы работаете.\n",
    "\n",
    "Подробнее об этом поле — в соответствующем разделе [пользовательской документации](https://docs.sbercloud.ru/aicloud/mlspace/concepts/deployments__send-http-requests-to-service.html?highlight=workspace%20id#http)."
   ]
  },
  {
   "attachments": {},
   "cell_type": "markdown",
   "metadata": {},
   "source": [
    "# Авторизация ([содержание](#toc))<a class=\"anchor\" id=\"authorization\"></a>"
   ]
  },
  {
   "cell_type": "code",
   "execution_count": null,
   "metadata": {},
   "outputs": [],
   "source": [
    "endpoint = \"service_auth\"\n",
    "\n",
    "json_body = json.dumps(credentials)\n",
    "\n",
    "headers = {\n",
    "    \"Content-Type\": \"application/json\",\n",
    "    \"Accept\": \"application/json\",\n",
    "}\n",
    "\n",
    "url = rest_call_template.format(host, endpoint)\n",
    "url"
   ]
  },
  {
   "cell_type": "code",
   "execution_count": null,
   "metadata": {},
   "outputs": [],
   "source": [
    "response = requests.request(\n",
    "    \"POST\",\n",
    "    url,\n",
    "    headers=headers,\n",
    "    data=json_body\n",
    ")\n",
    "\n",
    "auth_response_json = json.loads(response.text)"
   ]
  },
  {
   "cell_type": "code",
   "execution_count": null,
   "metadata": {},
   "outputs": [],
   "source": [
    "JSON(auth_response_json)"
   ]
  },
  {
   "attachments": {},
   "cell_type": "markdown",
   "metadata": {},
   "source": [
    "# Работа с данными ([содержание](#toc))<a class=\"anchor\" id=\"s3\"></a>"
   ]
  },
  {
   "attachments": {},
   "cell_type": "markdown",
   "metadata": {},
   "source": [
    "## Выгрузить содержание бакета ([содержание](#toc))<a class=\"anchor\" id=\"s3-get-bucket-content-structure\"></a>"
   ]
  },
  {
   "cell_type": "code",
   "execution_count": null,
   "metadata": {},
   "outputs": [],
   "source": [
    "s3 = boto3.client(\n",
    "    service_name=\"s3\",\n",
    "    aws_access_key_id=credentials_dict[\"workspaces\"][0][\"access_key_id\"],\n",
    "    aws_secret_access_key=credentials_dict[\"workspaces\"][0][\"secret_access_key\"],\n",
    "    endpoint_url=credentials_dict[\"workspaces\"][0][\"endpoint_url\"]\n",
    ")"
   ]
  },
  {
   "cell_type": "code",
   "execution_count": null,
   "metadata": {},
   "outputs": [],
   "source": [
    "resp = s3.list_objects(Bucket=credentials_dict[\"workspaces\"][0][\"bucket_name\"])"
   ]
  },
  {
   "cell_type": "code",
   "execution_count": null,
   "metadata": {},
   "outputs": [],
   "source": [
    "if \"Contents\" in resp:\n",
    "    bucket_content = {}\n",
    "\n",
    "    for item in resp[\"Contents\"]:\n",
    "        sub_folders = item[\"Key\"].split(\"/\")\n",
    "\n",
    "        temp = bucket_content\n",
    "\n",
    "        for sub_folder in sub_folders:\n",
    "            if sub_folder not in temp:\n",
    "                temp[sub_folder] = {}\n",
    "\n",
    "                temp = temp[sub_folder]\n",
    "            else:\n",
    "                temp = temp[sub_folder]"
   ]
  },
  {
   "cell_type": "code",
   "execution_count": null,
   "metadata": {},
   "outputs": [],
   "source": [
    "JSON(bucket_content)"
   ]
  },
  {
   "attachments": {},
   "cell_type": "markdown",
   "metadata": {},
   "source": [
    "## Копировать данные из S3 на NFS ([содержание](#toc))<a class=\"anchor\" id=\"s3-copy-to-nfs\"></a>"
   ]
  },
  {
   "cell_type": "code",
   "execution_count": null,
   "metadata": {},
   "outputs": [],
   "source": [
    "s3.download_file(\n",
    "    credentials_dict[\"workspaces\"][0][\"bucket_name\"],\n",
    "    \"test_script.py\",\n",
    "    \"/home/jovyan/test_script.py\"\n",
    ")"
   ]
  },
  {
   "cell_type": "code",
   "execution_count": null,
   "metadata": {},
   "outputs": [],
   "source": [
    "! ls -alh /home/jovyan/ | grep test_script.py"
   ]
  },
  {
   "attachments": {},
   "cell_type": "markdown",
   "metadata": {},
   "source": [
    "## Копировать данные из NFS на S3 ([содержание](#toc))<a class=\"anchor\" id=\"s3-copy-from-s3\"></a>"
   ]
  },
  {
   "cell_type": "code",
   "execution_count": null,
   "metadata": {},
   "outputs": [],
   "source": [
    "s3.upload_file(\n",
    "    \"/home/jovyan/env_dependencies_tree\",\n",
    "    credentials_dict[\"workspaces\"][0][\"bucket_name\"],\n",
    "    \"env_dependencies_tree\",\n",
    ")"
   ]
  },
  {
   "attachments": {},
   "cell_type": "markdown",
   "metadata": {},
   "source": [
    "# Базовые Docker-образы ([содержание](#toc))<a class=\"anchor\" id=\"docker-images\"></a>"
   ]
  },
  {
   "attachments": {},
   "cell_type": "markdown",
   "metadata": {},
   "source": [
    "## Получить список базовых Docker-образов ([содержание](#toc))<a class=\"anchor\" id=\"docker-images-get\"></a>"
   ]
  },
  {
   "cell_type": "code",
   "execution_count": null,
   "metadata": {},
   "outputs": [],
   "source": [
    "endpoint = \"service/base_mt_images\"\n",
    "\n",
    "url = rest_call_template.format(host, endpoint)\n",
    "url"
   ]
  },
  {
   "cell_type": "code",
   "execution_count": null,
   "metadata": {},
   "outputs": [],
   "source": [
    "response = requests.request(\n",
    "    \"GET\",\n",
    "    url\n",
    ")\n",
    "\n",
    "response_json = json.loads(response.text)"
   ]
  },
  {
   "cell_type": "code",
   "execution_count": null,
   "metadata": {},
   "outputs": [],
   "source": [
    "JSON(response_json)"
   ]
  },
  {
   "attachments": {},
   "cell_type": "markdown",
   "metadata": {},
   "source": [
    "# Задачи на кластере ([содержание](#toc))<a class=\"anchor\" id=\"jobs\"></a>"
   ]
  },
  {
   "attachments": {},
   "cell_type": "markdown",
   "metadata": {},
   "source": [
    "## Получить список задач ([содержание](#toc))<a class=\"anchor\" id=\"jobs-get\"></a>"
   ]
  },
  {
   "cell_type": "code",
   "execution_count": null,
   "metadata": {},
   "outputs": [],
   "source": [
    "endpoint = \"jobs\"\n",
    "\n",
    "headers = {\n",
    "    \"x-api-key\": credentials_dict[\"workspaces\"][0][\"gwapi-key\"],\n",
    "    \"authorization\": auth_response_json[\"token\"][\"access_token\"],\n",
    "    \"x-workspace-id\": credentials_dict[\"workspaces\"][0][\"id\"]\n",
    "}\n",
    "\n",
    "url = rest_call_template.format(host, endpoint)\n",
    "url"
   ]
  },
  {
   "cell_type": "code",
   "execution_count": null,
   "metadata": {},
   "outputs": [],
   "source": [
    "response = requests.request(\n",
    "    \"GET\",\n",
    "    url,\n",
    "    headers=headers\n",
    ")\n",
    "\n",
    "jobs_response_json = json.loads(response.text)"
   ]
  },
  {
   "cell_type": "code",
   "execution_count": null,
   "metadata": {},
   "outputs": [],
   "source": [
    "JSON(jobs_response_json)"
   ]
  },
  {
   "attachments": {},
   "cell_type": "markdown",
   "metadata": {},
   "source": [
    "## Запустить задачу ([содержание](#toc))<a class=\"anchor\" id=\"jobs-run\"></a>"
   ]
  },
  {
   "cell_type": "code",
   "execution_count": null,
   "metadata": {},
   "outputs": [],
   "source": [
    "endpoint = \"jobs\"\n",
    "\n",
    "headers = {\n",
    "    \"x-api-key\": credentials_dict[\"workspaces\"][0][\"gwapi-key\"],\n",
    "    \"authorization\": auth_response_json[\"token\"][\"access_token\"],\n",
    "    \"x-workspace-id\": credentials_dict[\"workspaces\"][0][\"id\"]\n",
    "}\n",
    "\n",
    "json_body = {\n",
    "    \"base_image\": \"registry.aicloud.sbcp.ru/horovod-tf15\",\n",
    "    \"script\": \"/home/jovyan/test_script.py\",\n",
    "    \"n_workers\": 2,\n",
    "    \"instance_type\": a100.1gpu.80vG.12C.96G,\n",
    "    \"flags\" : {\n",
    "        \"batch_size\": \"512\",\n",
    "        \"model\":\"resnet50\",\n",
    "        \"xla\":\"False\"\n",
    "    }\n",
    "}\n",
    "\n",
    "url = rest_call_template.format(host, endpoint)\n",
    "url"
   ]
  },
  {
   "cell_type": "code",
   "execution_count": null,
   "metadata": {},
   "outputs": [],
   "source": [
    "response = requests.request(\n",
    "    \"POST\",\n",
    "    url,\n",
    "    headers=headers,\n",
    "    json=json_body\n",
    ")\n",
    "\n",
    "job_response_json = json.loads(response.text)"
   ]
  },
  {
   "cell_type": "code",
   "execution_count": null,
   "metadata": {},
   "outputs": [],
   "source": [
    "JSON(job_response_json)"
   ]
  },
  {
   "attachments": {},
   "cell_type": "markdown",
   "metadata": {},
   "source": [
    "## Выгрузить логи задачи ([содержание](#toc))<a class=\"anchor\" id=\"jobs-job-logs\"></a>"
   ]
  },
  {
   "cell_type": "code",
   "execution_count": null,
   "metadata": {},
   "outputs": [],
   "source": [
    "endpoint = \"jobs/{}/logs\".format(job_response_json[\"job_name\"])\n",
    "\n",
    "headers = {\n",
    "    \"x-api-key\": credentials_dict[\"workspaces\"][0][\"gwapi-key\"],\n",
    "    \"authorization\": auth_response_json[\"token\"][\"access_token\"],\n",
    "    \"x-workspace-id\": credentials_dict[\"workspaces\"][0][\"id\"]\n",
    "}\n",
    "\n",
    "url = rest_call_template.format(host, endpoint)\n",
    "url"
   ]
  },
  {
   "cell_type": "code",
   "execution_count": null,
   "metadata": {},
   "outputs": [],
   "source": [
    "response = requests.request(\n",
    "    \"GET\",\n",
    "    url,\n",
    "    headers=headers\n",
    ")\n",
    "\n",
    "print(response.text)"
   ]
  },
  {
   "attachments": {},
   "cell_type": "markdown",
   "metadata": {},
   "source": [
    "# Inference-методы ([содержание](#toc))<a class=\"anchor\" id=\"inference\"></a>"
   ]
  },
  {
   "attachments": {},
   "cell_type": "markdown",
   "metadata": {},
   "source": [
    "## Получить список сервисов ([содержание](#toc))<a class=\"anchor\" id=\"inference-get-services-list\"></a>"
   ]
  },
  {
   "cell_type": "code",
   "execution_count": null,
   "metadata": {},
   "outputs": [],
   "source": [
    "endpoint = \"inference/v1/\"\n",
    "\n",
    "headers = {\n",
    "    \"x-api-key\": credentials_dict[\"workspaces\"][0][\"gwapi-key\"],\n",
    "    \"authorization\": auth_response_json[\"token\"][\"access_token\"],\n",
    "    \"x-workspace-id\": credentials_dict[\"workspaces\"][0][\"id\"]\n",
    "}\n",
    "\n",
    "url = rest_call_template.format(host, endpoint)\n",
    "url"
   ]
  },
  {
   "cell_type": "code",
   "execution_count": null,
   "metadata": {},
   "outputs": [],
   "source": [
    "response = requests.request(\n",
    "    \"GET\",\n",
    "    url,\n",
    "    headers=headers\n",
    ")"
   ]
  },
  {
   "cell_type": "code",
   "execution_count": null,
   "metadata": {},
   "outputs": [],
   "source": [
    "response_json = json.loads(response.text)"
   ]
  },
  {
   "cell_type": "code",
   "execution_count": null,
   "metadata": {},
   "outputs": [],
   "source": [
    "response_json = {\n",
    "    \"services\": response_json\n",
    "}"
   ]
  },
  {
   "cell_type": "code",
   "execution_count": null,
   "metadata": {},
   "outputs": [],
   "source": [
    "JSON(response_json)"
   ]
  },
  {
   "attachments": {},
   "cell_type": "markdown",
   "metadata": {},
   "source": [
    "## Получить информацию по сервису ([содержание](#toc))<a class=\"anchor\" id=\"inference-get-service-info\"></a>"
   ]
  },
  {
   "cell_type": "code",
   "execution_count": null,
   "metadata": {},
   "outputs": [],
   "source": [
    "endpoint = \"inference/v1/{}\".format(response_json[\"services\"][2][\"name\"])\n",
    "\n",
    "headers = {\n",
    "    \"x-api-key\": credentials_dict[\"workspaces\"][0][\"gwapi-key\"],\n",
    "    \"authorization\": auth_response_json[\"token\"][\"access_token\"],\n",
    "    \"x-workspace-id\": credentials_dict[\"workspaces\"][0][\"id\"]\n",
    "}\n",
    "\n",
    "url = rest_call_template.format(host, endpoint)\n",
    "url"
   ]
  },
  {
   "cell_type": "code",
   "execution_count": null,
   "metadata": {},
   "outputs": [],
   "source": [
    "response = requests.request(\n",
    "    \"GET\",\n",
    "    url,\n",
    "    headers=headers\n",
    ")"
   ]
  },
  {
   "cell_type": "code",
   "execution_count": null,
   "metadata": {},
   "outputs": [],
   "source": [
    "response_json = json.loads(response.text)"
   ]
  },
  {
   "cell_type": "code",
   "execution_count": null,
   "metadata": {},
   "outputs": [],
   "source": [
    "response_json = {\n",
    "    \"service\": response_json\n",
    "}"
   ]
  },
  {
   "cell_type": "code",
   "execution_count": null,
   "metadata": {},
   "outputs": [],
   "source": [
    "JSON(response_json)"
   ]
  },
  {
   "attachments": {},
   "cell_type": "markdown",
   "metadata": {},
   "source": [
    "## Создать образ для инференс-сервиса ([содержание](#toc))<a class=\"anchor\" id=\"inference-create-an-image\"></a>"
   ]
  },
  {
   "cell_type": "code",
   "execution_count": null,
   "metadata": {},
   "outputs": [],
   "source": [
    "s3.upload_file(\n",
    "    \"/home/jovyan/requirements.txt\",\n",
    "    credentials_dict[\"workspaces\"][0][\"bucket_name\"],\n",
    "    \"inference_folder/requirements.txt\",\n",
    ")"
   ]
  },
  {
   "cell_type": "code",
   "execution_count": null,
   "metadata": {},
   "outputs": [],
   "source": [
    "s3.upload_file(\n",
    "    \"/home/jovyan/dummy_mirror_serving_script.py\",\n",
    "    credentials_dict[\"workspaces\"][0][\"bucket_name\"],\n",
    "    \"inference_folder/dummy_mirror_serving_script.py\",\n",
    ")"
   ]
  },
  {
   "cell_type": "code",
   "execution_count": null,
   "metadata": {},
   "outputs": [],
   "source": [
    "endpoint = \"inference/build/v1/\"\n",
    "\n",
    "headers = {\n",
    "    \"x-api-key\": credentials_dict[\"workspaces\"][0][\"gwapi-key\"],\n",
    "    \"authorization\": auth_response_json[\"token\"][\"access_token\"],\n",
    "    \"x-workspace-id\": credentials_dict[\"workspaces\"][0][\"id\"],\n",
    "    \"Content-Type\": \"application/json\",\n",
    "    \"Accept\": \"application/json\"\n",
    "}\n",
    "\n",
    "json_body = {\n",
    "    \"base_image\": \"registry.aicloud.sbcp.ru/base/horovod-cuda10.0-tf1.15.0\",\n",
    "    \"run_script\": \"dummy_mirror_serving_script.py\",\n",
    "    \"requirements_path\": \"requirements.txt\",\n",
    "    \"artifacts_directory\": \"{}/inference_folder/\".format(credentials_dict[\"workspaces\"][0][\"bucket_name\"]),\n",
    "    \"AWS_ACCESS_KEY_ID\": credentials_dict[\"workspaces\"][0][\"access_key_id\"],\n",
    "    \"AWS_SECRET_ACCESS_KEY\": credentials_dict[\"workspaces\"][0][\"secret_access_key\"],\n",
    "    \"S3_ENDPOINT\": credentials_dict[\"workspaces\"][0][\"endpoint_url\"]\n",
    "}\n",
    "\n",
    "url = rest_call_template.format(host, endpoint)\n",
    "url"
   ]
  },
  {
   "cell_type": "code",
   "execution_count": null,
   "metadata": {},
   "outputs": [],
   "source": [
    "response = requests.request(\n",
    "    \"POST\",\n",
    "    url,\n",
    "    headers=headers,\n",
    "    json=json_body\n",
    ")"
   ]
  },
  {
   "cell_type": "code",
   "execution_count": null,
   "metadata": {},
   "outputs": [],
   "source": [
    "response_json = json.loads(response.text)"
   ]
  },
  {
   "cell_type": "code",
   "execution_count": null,
   "metadata": {},
   "outputs": [],
   "source": [
    "JSON(response_json)"
   ]
  },
  {
   "attachments": {},
   "cell_type": "markdown",
   "metadata": {},
   "source": [
    "## Просмотреть статус сборки образа для инференс-сервиса ([содержание](#toc))<a class=\"anchor\" id=\"inference-image-creation-status\"></a>"
   ]
  },
  {
   "cell_type": "code",
   "execution_count": null,
   "metadata": {},
   "outputs": [],
   "source": [
    "endpoint = \"service/jobs\"\n",
    "\n",
    "headers = {\n",
    "    \"x-api-key\": credentials_dict[\"workspaces\"][0][\"gwapi-key\"],\n",
    "    \"authorization\": auth_response_json[\"token\"][\"access_token\"],\n",
    "    \"x-workspace-id\": credentials_dict[\"workspaces\"][0][\"id\"]\n",
    "}\n",
    "\n",
    "url = rest_call_template.format(host, endpoint)\n",
    "url"
   ]
  },
  {
   "cell_type": "code",
   "execution_count": null,
   "metadata": {},
   "outputs": [],
   "source": [
    "response = requests.request(\n",
    "    \"GET\",\n",
    "    url,\n",
    "    headers=headers\n",
    ")"
   ]
  },
  {
   "cell_type": "code",
   "execution_count": null,
   "metadata": {},
   "outputs": [],
   "source": [
    "JSON(json.loads(response.text))"
   ]
  },
  {
   "attachments": {},
   "cell_type": "markdown",
   "metadata": {},
   "source": [
    "## Просмотреть логи сборки образа для инференс-сервиса ([содержание](#toc))<a class=\"anchor\" id=\"inference-image-creation-logs\"></a>"
   ]
  },
  {
   "cell_type": "code",
   "execution_count": null,
   "metadata": {},
   "outputs": [],
   "source": [
    "endpoint = \"service/jobs/{}/logs\".format(response_json[\"job_name\"])\n",
    "\n",
    "headers = {\n",
    "    \"x-api-key\": credentials_dict[\"workspaces\"][0][\"gwapi-key\"],\n",
    "    \"authorization\": auth_response_json[\"token\"][\"access_token\"],\n",
    "    \"x-workspace-id\": credentials_dict[\"workspaces\"][0][\"id\"]\n",
    "}\n",
    "\n",
    "url = rest_call_template.format(host, endpoint)\n",
    "url"
   ]
  },
  {
   "cell_type": "code",
   "execution_count": null,
   "metadata": {},
   "outputs": [],
   "source": [
    "response = requests.request(\n",
    "    \"GET\",\n",
    "    url,\n",
    "    headers=headers\n",
    ")\n",
    "\n",
    "print(response.text)"
   ]
  },
  {
   "attachments": {},
   "cell_type": "markdown",
   "metadata": {},
   "source": [
    "## Создать деплой на основе собранного образа ([содержание](#toc))<a class=\"anchor\" id=\"inference-create-service\"></a>"
   ]
  },
  {
   "cell_type": "code",
   "execution_count": null,
   "metadata": {},
   "outputs": [],
   "source": [
    "endpoint = \"inference/v1/\"\n",
    "\n",
    "headers = {\n",
    "    \"x-api-key\": credentials_dict[\"workspaces\"][0][\"gwapi-key\"],\n",
    "    \"authorization\": auth_response_json[\"token\"][\"access_token\"],\n",
    "    \"x-workspace-id\": credentials_dict[\"workspaces\"][0][\"id\"],\n",
    "    \"Content-Type\": \"application/json\",\n",
    "    \"Accept\": \"application/json\"\n",
    "}\n",
    "\n",
    "json_body = {\n",
    "    \"image\": response_json[\"image\"],\n",
    "    \"resources\": {\n",
    "        \"cpu\": 1,\n",
    "        \"memory\": 10,\n",
    "        \"gpu\": \"1\"\n",
    "    },\n",
    "    \"replicas\": {\n",
    "        \"min\": 1,\n",
    "        \"max\": 2\n",
    "    }\n",
    "}\n",
    "\n",
    "url = rest_call_template.format(host, endpoint)\n",
    "url"
   ]
  },
  {
   "cell_type": "code",
   "execution_count": null,
   "metadata": {},
   "outputs": [],
   "source": [
    "response = requests.request(\n",
    "    \"POST\",\n",
    "    url,\n",
    "    headers=headers,\n",
    "    json=json_body\n",
    ")"
   ]
  },
  {
   "cell_type": "code",
   "execution_count": null,
   "metadata": {},
   "outputs": [],
   "source": [
    "response_json = json.loads(response.text)"
   ]
  },
  {
   "cell_type": "code",
   "execution_count": null,
   "metadata": {},
   "outputs": [],
   "source": [
    "print(response_json[\"metadata\"][\"name\"])"
   ]
  },
  {
   "attachments": {},
   "cell_type": "markdown",
   "metadata": {},
   "source": [
    "## Отправить запрос к созданному сервису ([содержание](#toc))<a class=\"anchor\" id=\"inference-get-a-response-from-service\"></a>"
   ]
  },
  {
   "cell_type": "code",
   "execution_count": null,
   "metadata": {},
   "outputs": [],
   "source": [
    "endpoint = \"inference/v1/predict/{}/{}/\".format(response_json[\"metadata\"][\"name\"], response_json[\"metadata\"][\"name\"])\n",
    "\n",
    "headers = {\n",
    "    \"x-api-key\": credentials_dict[\"workspaces\"][0][\"gwapi-key\"],\n",
    "    \"authorization\": auth_response_json[\"token\"][\"access_token\"],\n",
    "    \"x-workspace-id\": credentials_dict[\"workspaces\"][0][\"id\"],\n",
    "    \"Content-Type\": \"application/json\",\n",
    "    \"Accept\": \"application/json\"\n",
    "}\n",
    "\n",
    "json_body = {\n",
    "    \"instances\": [\n",
    "        {\n",
    "            \"image_link\": \"1.jpg\"\n",
    "        },\n",
    "        {\n",
    "            \"image_link\": \"2.jpg\"\n",
    "        },\n",
    "        {\n",
    "            \"image_link\": \"3.jpg\"\n",
    "        }\n",
    "    ]\n",
    "}\n",
    "\n",
    "url = rest_call_template.format(host, endpoint)\n",
    "url"
   ]
  },
  {
   "cell_type": "code",
   "execution_count": null,
   "metadata": {},
   "outputs": [],
   "source": [
    "response = requests.request(\n",
    "    \"POST\",\n",
    "    url,\n",
    "    headers=headers,\n",
    "    json=json_body\n",
    ")"
   ]
  },
  {
   "cell_type": "code",
   "execution_count": null,
   "metadata": {},
   "outputs": [],
   "source": [
    "JSON(json.loads(response.text))"
   ]
  },
  {
   "cell_type": "code",
   "execution_count": null,
   "metadata": {},
   "outputs": [],
   "source": []
  }
 ],
 "metadata": {
  "kernelspec": {
   "display_name": "Python 3.9.6 64-bit",
   "language": "python",
   "name": "python3"
  },
  "language_info": {
   "codemirror_mode": {
    "name": "ipython",
    "version": 3
   },
   "file_extension": ".py",
   "mimetype": "text/x-python",
   "name": "python",
   "nbconvert_exporter": "python",
   "pygments_lexer": "ipython3",
   "version": "3.9.6"
  },
  "vscode": {
   "interpreter": {
    "hash": "31f2aee4e71d21fbe5cf8b01ff0e069b9275f58929596ceb00d14d90e3e16cd6"
   }
  }
 },
 "nbformat": 4,
 "nbformat_minor": 4
}
